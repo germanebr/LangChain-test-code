{
 "cells": [
  {
   "cell_type": "code",
   "execution_count": 1,
   "id": "3f9f510b",
   "metadata": {},
   "outputs": [],
   "source": [
    "from google.cloud import bigquery\n",
    "from sqlalchemy import *\n",
    "from sqlalchemy.engine import create_engine\n",
    "from sqlalchemy.schema import *\n",
    "from pybigquery.api import ApiClient\n",
    "import os\n",
    "\n",
    "from langchain.agents import create_sql_agent, AgentExecutor\n",
    "from langchain.agents.agent_toolkits import SQLDatabaseToolkit\n",
    "from langchain.sql_database import SQLDatabase\n",
    "from langchain.llms.openai import AzureOpenAI"
   ]
  },
  {
   "cell_type": "code",
   "execution_count": 2,
   "id": "a51dda84",
   "metadata": {},
   "outputs": [],
   "source": [
    "# BigQuery initialization\n",
    "service_account = \"gcp-service-account.json\"\n",
    "project = 'gcp-project-id'\n",
    "dataset = 'langchain_tutorial'\n",
    "table = 'churn-dataset'\n",
    "\n",
    "sqlalchemy_url = f\"bigquery://{project}/{dataset}?credentials_path={service_account}\""
   ]
  },
  {
   "cell_type": "code",
   "execution_count": 3,
   "id": "820acc51",
   "metadata": {},
   "outputs": [],
   "source": [
    "# Initialize OpenAI\n",
    "path = 'azure_openai_api_key.txt'\n",
    "with open(path) as f:\n",
    "    API_key = f.readlines()[0]\n",
    "    \n",
    "os.environ['OPENAI_API_KEY'] = API_key\n",
    "os.environ['OPENAI_API_TYPE'] = 'azure'\n",
    "os.environ['OPENAI_API_VERSION'] = '2023-03-15-preview'\n",
    "os.environ['OPENAI_API_BASE'] = 'openai-base-url'"
   ]
  },
  {
   "cell_type": "code",
   "execution_count": null,
   "id": "25a168f3",
   "metadata": {},
   "outputs": [],
   "source": [
    "# Setup LangChain agent\n",
    "db = SQLDatabase.from_uri(sqlalchemy_url)\n",
    "\n",
    "llm = AzureOpenAI(deployment_name = \"text-davinci-003\",\n",
    "                  model_name = \"text-davinci-003\")\n",
    "\n",
    "toolkit = SQLDatabaseToolkit(db = db,\n",
    "                             llm = llm)\n",
    "\n",
    "agent_executor = create_sql_agent(llm = llm,\n",
    "                                  toolkit = toolkit,\n",
    "                                  verbose = True,\n",
    "                                  top_k = 1000) #Limit the max number of results"
   ]
  },
  {
   "cell_type": "code",
   "execution_count": null,
   "id": "b1daf393",
   "metadata": {},
   "outputs": [],
   "source": [
    "agent_executor.run(\"How many male users churned? \")"
   ]
  },
  {
   "cell_type": "code",
   "execution_count": 6,
   "id": "8fe1cb09",
   "metadata": {},
   "outputs": [
    {
     "name": "stdout",
     "output_type": "stream",
     "text": [
      "\n",
      "\n",
      "\u001b[1m> Entering new AgentExecutor chain...\u001b[0m\n",
      "\u001b[32;1m\u001b[1;3mAction: sql_db_list_tables\n",
      "Action Input: \"\"\u001b[0m\n",
      "Observation: \u001b[38;5;200m\u001b[1;3mchurn-dataset\u001b[0m\n",
      "Thought:\u001b[32;1m\u001b[1;3m I should query the schema of the churn-dataset table\n",
      "Action: sql_db_schema\n",
      "Action Input: \"churn-dataset\"\u001b[0m\n",
      "Observation: \u001b[33;1m\u001b[1;3m\n",
      "CREATE TABLE `churn-dataset` (\n",
      "\t`customerID` STRING, \n",
      "\t`gender` STRING, \n",
      "\t`SeniorCitizen` INT64, \n",
      "\t`Partner` BOOL, \n",
      "\t`Dependents` BOOL, \n",
      "\t`tenure` INT64, \n",
      "\t`PhoneService` BOOL, \n",
      "\t`MultipleLines` STRING, \n",
      "\t`InternetService` STRING, \n",
      "\t`OnlineSecurity` STRING, \n",
      "\t`OnlineBackup` STRING, \n",
      "\t`DeviceProtection` STRING, \n",
      "\t`TechSupport` STRING, \n",
      "\t`StreamingTV` STRING, \n",
      "\t`StreamingMovies` STRING, \n",
      "\t`Contract` STRING, \n",
      "\t`PaperlessBilling` BOOL, \n",
      "\t`PaymentMethod` STRING, \n",
      "\t`MonthlyCharges` FLOAT64, \n",
      "\t`TotalCharges` STRING, \n",
      "\t`Churn` BOOL OPTIONS(description='')\n",
      ")\n",
      "\n",
      "/*\n",
      "3 rows from churn-dataset table:\n",
      "customerID\tgender\tSeniorCitizen\tPartner\tDependents\ttenure\tPhoneService\tMultipleLines\tInternetService\tOnlineSecurity\tOnlineBackup\tDeviceProtection\tTechSupport\tStreamingTV\tStreamingMovies\tContract\tPaperlessBilling\tPaymentMethod\tMonthlyCharges\tTotalCharges\tChurn\n",
      "9732-OUYRN\tFemale\t0\tTrue\tFalse\t49\tTrue\tNo\tNo\tNo internet service\tNo internet service\tNo internet service\tNo internet service\tNo internet service\tNo internet service\tOne year\tFalse\tCredit card (automatic)\t19.0\t918.7\tFalse\n",
      "0661-KQHNK\tFemale\t0\tTrue\tTrue\t6\tTrue\tNo\tNo\tNo internet service\tNo internet service\tNo internet service\tNo internet service\tNo internet service\tNo internet service\tOne year\tFalse\tCredit card (automatic)\t19.0\t105.5\tFalse\n",
      "4709-LKHYG\tFemale\t0\tTrue\tTrue\t29\tTrue\tNo\tNo\tNo internet service\tNo internet service\tNo internet service\tNo internet service\tNo internet service\tNo internet service\tOne year\tFalse\tElectronic check\t20.0\t540.05\tFalse\n",
      "*/\u001b[0m\n",
      "Thought:\u001b[32;1m\u001b[1;3m I should query the churn-dataset table to answer the question\n",
      "Action: sql_db_query\n",
      "Action Input: SELECT COUNT(*) FROM churn-dataset WHERE Churn = 1 AND InternetService != 'No'\u001b[0m\n",
      "Observation: \u001b[36;1m\u001b[1;3mError: (google.cloud.bigquery.dbapi.exceptions.DatabaseError) 400 No matching signature for operator = for argument types: BOOL, INT64. Supported signature: ANY = ANY at [1:42]\n",
      "\n",
      "Location: US\n",
      "Job ID: 3128c70c-1626-4e37-ab53-2e48ecfc46b6\n",
      "\n",
      "[SQL: SELECT COUNT(*) FROM churn-dataset WHERE Churn = 1 AND InternetService != 'No']\n",
      "(Background on this error at: https://sqlalche.me/e/14/4xp6)\u001b[0m\n",
      "Thought:\u001b[32;1m\u001b[1;3m I should query the churn-dataset table to answer the question\n",
      "Action: sql_db_query\n",
      "Action Input: SELECT COUNT(*) FROM churn-dataset WHERE Churn = True AND InternetService != 'No'\u001b[0m\n",
      "Observation: \u001b[36;1m\u001b[1;3m[(1756,)]\u001b[0m\n",
      "Thought:\u001b[32;1m\u001b[1;3m I should query the churn-dataset table to answer the second question\n",
      "Action: sql_db_query\n",
      "Action Input: SELECT COUNT(*) FROM churn-dataset WHERE Churn = 1 AND InternetService = 'No'\u001b[0m\n",
      "Observation: \u001b[36;1m\u001b[1;3mError: (google.cloud.bigquery.dbapi.exceptions.DatabaseError) 400 No matching signature for operator = for argument types: BOOL, INT64. Supported signature: ANY = ANY at [1:42]\n",
      "\n",
      "Location: US\n",
      "Job ID: d97cf473-41a6-43f8-93b3-46aed75eccfe\n",
      "\n",
      "[SQL: SELECT COUNT(*) FROM churn-dataset WHERE Churn = 1 AND InternetService = 'No']\n",
      "(Background on this error at: https://sqlalche.me/e/14/4xp6)\u001b[0m\n",
      "Thought:\u001b[32;1m\u001b[1;3m I should query the churn-dataset table to answer the second question\n",
      "Action: sql_db_query\n",
      "Action Input: SELECT COUNT(*) FROM churn-dataset WHERE Churn = True AND InternetService = 'No'\u001b[0m\n",
      "Observation: \u001b[36;1m\u001b[1;3m[(113,)]\u001b[0m\n",
      "Thought:\u001b[32;1m\u001b[1;3m I should query the churn-dataset table to answer the third question\n",
      "Action: sql_db_query\n",
      "Action Input: SELECT COUNT(*) FROM churn-dataset WHERE Churn = False AND InternetService != 'No'\u001b[0m\n",
      "Observation: \u001b[36;1m\u001b[1;3m[(3761,)]\u001b[0m\n",
      "Thought:\u001b[32;1m\u001b[1;3m I should query the churn-dataset table to answer the third question\n",
      "Action: sql_db_query\n",
      "Action Input: SELECT COUNT(*) FROM churn-dataset WHERE Churn = False AND InternetService = 'No'\u001b[0m\n",
      "Observation: \u001b[36;1m\u001b[1;3m[(1413,)]\u001b[0m\n",
      "Thought:\u001b[32;1m\u001b[1;3m I now know the final answer\n",
      "Final Answer: 1756 users churned with internet service, 113 users churned without internet service, 3761 users did not churn with internet service and 1413 users did not churn without internet service.\u001b[0m\n",
      "\n",
      "\u001b[1m> Finished chain.\u001b[0m\n"
     ]
    },
    {
     "data": {
      "text/plain": [
       "'1756 users churned with internet service, 113 users churned without internet service, 3761 users did not churn with internet service and 1413 users did not churn without internet service.'"
      ]
     },
     "execution_count": 6,
     "metadata": {},
     "output_type": "execute_result"
    }
   ],
   "source": [
    "agent_executor.run(\"\"\"How many users churned which had internet service?\n",
    "How many churned which had no internet service?\n",
    "And for each of the groups, how many did not churn?\"\"\")"
   ]
  }
 ],
 "metadata": {
  "kernelspec": {
   "display_name": "Python 3 (ipykernel)",
   "language": "python",
   "name": "python3"
  },
  "language_info": {
   "codemirror_mode": {
    "name": "ipython",
    "version": 3
   },
   "file_extension": ".py",
   "mimetype": "text/x-python",
   "name": "python",
   "nbconvert_exporter": "python",
   "pygments_lexer": "ipython3",
   "version": "3.11.5"
  }
 },
 "nbformat": 4,
 "nbformat_minor": 5
}
